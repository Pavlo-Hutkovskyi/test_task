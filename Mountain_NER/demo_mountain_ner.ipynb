{
 "cells": [
  {
   "metadata": {
    "ExecuteTime": {
     "end_time": "2024-10-11T00:02:19.963158Z",
     "start_time": "2024-10-11T00:02:16.804435Z"
    }
   },
   "cell_type": "code",
   "source": [
    "from transformers import BertTokenizerFast, BertForTokenClassification\n",
    "import torch"
   ],
   "id": "initial_id",
   "outputs": [],
   "execution_count": 1
  },
  {
   "metadata": {},
   "cell_type": "markdown",
   "source": "###### Mapping of label indices to label names and directory where the trained model is saved and load the tokenizer and the model for token classification",
   "id": "ac5c9bbf835ace4d"
  },
  {
   "metadata": {
    "ExecuteTime": {
     "end_time": "2024-10-10T13:09:00.818830Z",
     "start_time": "2024-10-10T13:09:00.598199Z"
    }
   },
   "cell_type": "code",
   "source": [
    "id2label = {0: 'B-MOUNTAIN', 1: 'I-MOUNTAIN', 2: 'O'}\n",
    "model_dir = 'model_save/'\n",
    "tokenizer = BertTokenizerFast.from_pretrained(model_dir)\n",
    "model = BertForTokenClassification.from_pretrained(model_dir)"
   ],
   "id": "e015eb1798ef7db8",
   "outputs": [],
   "execution_count": 56
  },
  {
   "metadata": {},
   "cell_type": "markdown",
   "source": "Predict named entities in the given text using the loaded model.",
   "id": "8e0a2a18752ae430"
  },
  {
   "metadata": {
    "ExecuteTime": {
     "end_time": "2024-10-10T13:09:00.830833Z",
     "start_time": "2024-10-10T13:09:00.820830Z"
    }
   },
   "cell_type": "code",
   "source": [
    "def predict(text):\n",
    "    tokenized_input = tokenizer(text, return_tensors=\"pt\", padding=True, truncation=True, max_length=512)\n",
    "    \n",
    "    with torch.no_grad():\n",
    "        outputs = model(**tokenized_input)\n",
    "    \n",
    "    predicted_labels = outputs.logits.argmax(dim=-1)[0]\n",
    "\n",
    "    named_entities = []\n",
    "    for token, label in zip(tokenized_input[\"input_ids\"][0], predicted_labels):\n",
    "        label_id = label.item()\n",
    "        label_name = id2label[label_id]\n",
    "\n",
    "        named_entities.append((tokenizer.decode([token]), label_name))\n",
    "\n",
    "    return named_entities\n"
   ],
   "id": "b530e7cd6535a024",
   "outputs": [],
   "execution_count": 57
  },
  {
   "metadata": {
    "ExecuteTime": {
     "end_time": "2024-10-10T13:09:00.837833Z",
     "start_time": "2024-10-10T13:09:00.832831Z"
    }
   },
   "cell_type": "code",
   "source": "text = \"Alps is the tallest mountain in the world, attracting climbers from all over the globe.\"",
   "id": "376d8f0bafab1139",
   "outputs": [],
   "execution_count": 58
  },
  {
   "metadata": {
    "ExecuteTime": {
     "end_time": "2024-10-10T13:09:01.022829Z",
     "start_time": "2024-10-10T13:09:00.839832Z"
    }
   },
   "cell_type": "code",
   "source": "token_label_pairs = predict(text)",
   "id": "966b86847352e263",
   "outputs": [],
   "execution_count": 59
  },
  {
   "metadata": {
    "ExecuteTime": {
     "end_time": "2024-10-10T13:09:01.028837Z",
     "start_time": "2024-10-10T13:09:01.024832Z"
    }
   },
   "cell_type": "code",
   "source": "print(token_label_pairs)",
   "id": "e893f8e66d1e8e86",
   "outputs": [
    {
     "name": "stdout",
     "output_type": "stream",
     "text": [
      "[('[CLS]', 'O'), ('alps', 'B-MOUNTAIN'), ('is', 'O'), ('the', 'O'), ('tallest', 'O'), ('mountain', 'O'), ('in', 'O'), ('the', 'O'), ('world', 'O'), (',', 'O'), ('attracting', 'O'), ('climb', 'O'), ('##ers', 'O'), ('from', 'O'), ('all', 'O'), ('over', 'O'), ('the', 'O'), ('globe', 'O'), ('.', 'O'), ('[SEP]', 'O')]\n"
     ]
    }
   ],
   "execution_count": 60
  }
 ],
 "metadata": {
  "kernelspec": {
   "display_name": "Python 3",
   "language": "python",
   "name": "python3"
  },
  "language_info": {
   "codemirror_mode": {
    "name": "ipython",
    "version": 2
   },
   "file_extension": ".py",
   "mimetype": "text/x-python",
   "name": "python",
   "nbconvert_exporter": "python",
   "pygments_lexer": "ipython2",
   "version": "2.7.6"
  }
 },
 "nbformat": 4,
 "nbformat_minor": 5
}
